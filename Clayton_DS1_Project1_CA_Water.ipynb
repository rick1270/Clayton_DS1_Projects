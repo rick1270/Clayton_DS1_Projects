{
  "nbformat": 4,
  "nbformat_minor": 0,
  "metadata": {
    "colab": {
      "name": "Clayton_DS1_Project1_CA_Water.ipynb",
      "version": "0.3.2",
      "provenance": [],
      "collapsed_sections": [],
      "include_colab_link": true
    },
    "kernelspec": {
      "display_name": "Python 3",
      "language": "python",
      "name": "python3"
    }
  },
  "cells": [
    {
      "cell_type": "markdown",
      "metadata": {
        "id": "view-in-github",
        "colab_type": "text"
      },
      "source": [
        "<a href=\"https://colab.research.google.com/github/rick1270/Clayton_DS1_Projects/blob/master/Clayton_DS1_Project1_CA_Water.ipynb\" target=\"_parent\"><img src=\"https://colab.research.google.com/assets/colab-badge.svg\" alt=\"Open In Colab\"/></a>"
      ]
    },
    {
      "metadata": {
        "id": "4oH7i0KapDIa",
        "colab_type": "text"
      },
      "cell_type": "markdown",
      "source": [
        "## Project Action Plan\n",
        "#### Phase One\n",
        "1.  Develop Hypothesis regarding water quality \n",
        "2.  Research parameters, set forth by the EPA determin their relevance and availibility.  Choose aproximately 12 parameters (drop 2 if needed) and number of water plants\n",
        "\n",
        "3.  Establish time frame and data points for project\n",
        "\n",
        "#### Phase Two\n",
        "1.  Download data from state\n",
        "2.  Review data (shape, discription, headers)\n",
        "3.  Determin frequency and distribution of missing data\n",
        "4.  Address missing data\n",
        "\n",
        "#### Phase Three\n",
        "1.  Produce  plot consisting of state of California, data collection points, colors indicating water component levels, with two sliders for year and component.\n",
        "2.  Produce line graph showing five largest cities in CA and change in each component over time frame\n"
      ]
    },
    {
      "metadata": {
        "id": "10--xL8JHXXE",
        "colab_type": "code",
        "outputId": "3d48a767-a9d8-4ffa-dbbe-807251a26563",
        "colab": {
          "base_uri": "https://localhost:8080/",
          "height": 136
        }
      },
      "cell_type": "code",
      "source": [
        "!apt install proj-bin libproj-dev libgeos-dev"
      ],
      "execution_count": 323,
      "outputs": [
        {
          "output_type": "stream",
          "text": [
            "Reading package lists... Done\n",
            "Building dependency tree       \n",
            "Reading state information... Done\n",
            "libgeos-dev is already the newest version (3.6.2-1build2).\n",
            "libproj-dev is already the newest version (4.9.3-2).\n",
            "proj-bin is already the newest version (4.9.3-2).\n",
            "0 upgraded, 0 newly installed, 0 to remove and 8 not upgraded.\n"
          ],
          "name": "stdout"
        }
      ]
    },
    {
      "metadata": {
        "id": "U5n12s-7Hnfp",
        "colab_type": "code",
        "outputId": "2550cec7-b195-4ffc-b41b-4b63b6152a66",
        "colab": {
          "base_uri": "https://localhost:8080/",
          "height": 306
        }
      },
      "cell_type": "code",
      "source": [
        "!pip install https://github.com/matplotlib/basemap/archive/v1.1.0.tar.gz"
      ],
      "execution_count": 324,
      "outputs": [
        {
          "output_type": "stream",
          "text": [
            "Collecting https://github.com/matplotlib/basemap/archive/v1.1.0.tar.gz\n",
            "  Downloading https://github.com/matplotlib/basemap/archive/v1.1.0.tar.gz\n",
            "\u001b[K     | 165.5MB 18.0MB/s\n",
            "Requirement already satisfied (use --upgrade to upgrade): basemap==1.1.0 from https://github.com/matplotlib/basemap/archive/v1.1.0.tar.gz in /usr/local/lib/python3.6/dist-packages\n",
            "Requirement already satisfied: numpy>=1.2.1 in /usr/local/lib/python3.6/dist-packages (from basemap==1.1.0) (1.14.6)\n",
            "Requirement already satisfied: matplotlib>=1.0.0 in /usr/local/lib/python3.6/dist-packages (from basemap==1.1.0) (2.1.2)\n",
            "Requirement already satisfied: pyproj>=1.9.3 in /usr/local/lib/python3.6/dist-packages (from basemap==1.1.0) (1.9.5.1)\n",
            "Requirement already satisfied: pyshp>=1.2.0 in /usr/local/lib/python3.6/dist-packages (from basemap==1.1.0) (2.0.1)\n",
            "Requirement already satisfied: pytz in /usr/local/lib/python3.6/dist-packages (from matplotlib>=1.0.0->basemap==1.1.0) (2018.7)\n",
            "Requirement already satisfied: cycler>=0.10 in /usr/local/lib/python3.6/dist-packages (from matplotlib>=1.0.0->basemap==1.1.0) (0.10.0)\n",
            "Requirement already satisfied: pyparsing!=2.0.4,!=2.1.2,!=2.1.6,>=2.0.1 in /usr/local/lib/python3.6/dist-packages (from matplotlib>=1.0.0->basemap==1.1.0) (2.3.0)\n",
            "Requirement already satisfied: python-dateutil>=2.1 in /usr/local/lib/python3.6/dist-packages (from matplotlib>=1.0.0->basemap==1.1.0) (2.5.3)\n",
            "Requirement already satisfied: six>=1.10 in /usr/local/lib/python3.6/dist-packages (from matplotlib>=1.0.0->basemap==1.1.0) (1.11.0)\n",
            "Building wheels for collected packages: basemap\n",
            "  Running setup.py bdist_wheel for basemap ... \u001b[?25l-\b \b\\\b \b|\b \b/\b \b-\b \b\\\b \b|\b \b/\b \b-\b \b\\\b \b|\b \b/\b \b-\b \b\\\b \b|\b \b/\b \b-\b \b\\\b \b|\b \b/\b \b-\b \b\\\b \b|\b \b/\b \b-\b \b\\\b \b|\b \b/\b \b-\b \b\\\b \b|\b \b/\b \b-\b \b\\\b \b|\b \b/\b \b-\b \b\\\b \b|\b \b/\b \bdone\n",
            "\u001b[?25h  Stored in directory: /tmp/pip-ephem-wheel-cache-e7vp58ja/wheels/6c/c2/bd/d6fb8f2660e0591d357352aba1b117b3211d016994d933d792\n",
            "Successfully built basemap\n"
          ],
          "name": "stdout"
        }
      ]
    },
    {
      "metadata": {
        "id": "qLpgXlwtEtEw",
        "colab_type": "code",
        "outputId": "f72551e9-c4c7-4f23-9eb4-43515efbf8ab",
        "colab": {
          "base_uri": "https://localhost:8080/",
          "height": 255
        }
      },
      "cell_type": "code",
      "source": [
        "! pip install git+https://github.com/anntzer/mplcursors"
      ],
      "execution_count": 325,
      "outputs": [
        {
          "output_type": "stream",
          "text": [
            "Collecting git+https://github.com/anntzer/mplcursors\n",
            "  Cloning https://github.com/anntzer/mplcursors to /tmp/pip-req-build-6ph2nl5i\n",
            "Requirement already satisfied (use --upgrade to upgrade): mplcursors==0.2.1.post11+g36bb394 from git+https://github.com/anntzer/mplcursors in /usr/local/lib/python3.6/dist-packages\n",
            "Requirement already satisfied: matplotlib!=3.0.0,>=2.1 in /usr/local/lib/python3.6/dist-packages (from mplcursors==0.2.1.post11+g36bb394) (2.1.2)\n",
            "Requirement already satisfied: pyparsing!=2.0.4,!=2.1.2,!=2.1.6,>=2.0.1 in /usr/local/lib/python3.6/dist-packages (from matplotlib!=3.0.0,>=2.1->mplcursors==0.2.1.post11+g36bb394) (2.3.0)\n",
            "Requirement already satisfied: numpy>=1.7.1 in /usr/local/lib/python3.6/dist-packages (from matplotlib!=3.0.0,>=2.1->mplcursors==0.2.1.post11+g36bb394) (1.14.6)\n",
            "Requirement already satisfied: cycler>=0.10 in /usr/local/lib/python3.6/dist-packages (from matplotlib!=3.0.0,>=2.1->mplcursors==0.2.1.post11+g36bb394) (0.10.0)\n",
            "Requirement already satisfied: six>=1.10 in /usr/local/lib/python3.6/dist-packages (from matplotlib!=3.0.0,>=2.1->mplcursors==0.2.1.post11+g36bb394) (1.11.0)\n",
            "Requirement already satisfied: python-dateutil>=2.1 in /usr/local/lib/python3.6/dist-packages (from matplotlib!=3.0.0,>=2.1->mplcursors==0.2.1.post11+g36bb394) (2.5.3)\n",
            "Requirement already satisfied: pytz in /usr/local/lib/python3.6/dist-packages (from matplotlib!=3.0.0,>=2.1->mplcursors==0.2.1.post11+g36bb394) (2018.7)\n",
            "Building wheels for collected packages: mplcursors\n",
            "  Running setup.py bdist_wheel for mplcursors ... \u001b[?25l-\b \bdone\n",
            "\u001b[?25h  Stored in directory: /tmp/pip-ephem-wheel-cache-y57sqkhv/wheels/96/31/13/6a044169fec7a9aede6380379640d7ecff720c5dc8606e65bf\n",
            "Successfully built mplcursors\n"
          ],
          "name": "stdout"
        }
      ]
    },
    {
      "metadata": {
        "id": "pYQfd97HpDIb",
        "colab_type": "code",
        "colab": {}
      },
      "cell_type": "code",
      "source": [
        "#import libraries here\n",
        "%matplotlib inline\n",
        "import mplcursors\n",
        "from mpl_toolkits.basemap import Basemap\n",
        "import pandas as pd\n",
        "import numpy as np\n",
        "import matplotlib.pyplot as plt\n",
        "import datetime"
      ],
      "execution_count": 0,
      "outputs": []
    },
    {
      "metadata": {
        "id": "G6huHuj5pDIe",
        "colab_type": "code",
        "colab": {}
      },
      "cell_type": "code",
      "source": [
        "#Eliminate ... in panda outputpd.set_option('display.height', 1000)\n",
        "pd.set_option('display.max_rows', 500)\n",
        "pd.set_option('display.max_columns', 500)\n",
        "pd.set_option('display.width', 1000)"
      ],
      "execution_count": 0,
      "outputs": []
    },
    {
      "metadata": {
        "id": "JdJAXgJ3pDIg",
        "colab_type": "code",
        "colab": {}
      },
      "cell_type": "code",
      "source": [
        "\n",
        "#Import Raw Data\n",
        "CA_Water_Path = 'https://data.cnra.ca.gov/dataset/3f96977e-2597-4baa-8c9b-c433cea0685e/resource/a9e7ef50-54c3-4031-8e44-aa46f3c660fe/download/lab-results.csv'\n",
        "df = pd.read_csv(CA_Water_Path)"
      ],
      "execution_count": 0,
      "outputs": []
    },
    {
      "metadata": {
        "id": "VwJfK1HgpDIj",
        "colab_type": "code",
        "colab": {}
      },
      "cell_type": "code",
      "source": [
        "#View Raw Data\n",
        "df.head(500)"
      ],
      "execution_count": 0,
      "outputs": []
    },
    {
      "metadata": {
        "id": "fgUVPWOjpDIo",
        "colab_type": "code",
        "colab": {}
      },
      "cell_type": "code",
      "source": [
        "#Separate out surface water information\n",
        "sw = df[df['STATION_TYPE'] == 'Surface Water']\n",
        "#check Data types\n",
        "sw.dtypes"
      ],
      "execution_count": 0,
      "outputs": []
    },
    {
      "metadata": {
        "id": "OXIrzri2pDIr",
        "colab_type": "code",
        "colab": {}
      },
      "cell_type": "code",
      "source": [
        "#View data parameters\n",
        "sw.describe()"
      ],
      "execution_count": 0,
      "outputs": []
    },
    {
      "metadata": {
        "id": "RbTuiA2OpDIv",
        "colab_type": "code",
        "colab": {}
      },
      "cell_type": "code",
      "source": [
        "#Convert SAMPLE_DATE Col from string to time value \n",
        "sw['SAMPLE_DATE'] = pd.to_datetime(sw['SAMPLE_DATE'], infer_datetime_format = True)\n",
        "#Convert SAMPLE_DATE Col to year only (converted back to int?... leave as int)\n",
        "sw['SAMPLE_DATE'] = sw['SAMPLE_DATE'].dt.year\n",
        "sw.head()"
      ],
      "execution_count": 0,
      "outputs": []
    },
    {
      "metadata": {
        "id": "VR5ljR9EpDIy",
        "colab_type": "code",
        "colab": {}
      },
      "cell_type": "code",
      "source": [
        "#Verify data types\n",
        "sw.dtypes"
      ],
      "execution_count": 0,
      "outputs": []
    },
    {
      "metadata": {
        "scrolled": true,
        "id": "p127726_pDI2",
        "colab_type": "code",
        "colab": {}
      },
      "cell_type": "code",
      "source": [
        "#Remove unecessary columns\n",
        "sw.drop(columns=['STATION_NAME', 'STATION_TYPE', 'STATION_NUMBER', 'SAMPLE_CODE', 'SAMPLE_DEPTH', 'SAMPLE_DEPTH_UNITS', 'METHOD_NAME'], inplace = True)\n",
        "sw.head()"
      ],
      "execution_count": 0,
      "outputs": []
    },
    {
      "metadata": {
        "id": "F5TczGwmpDI6",
        "colab_type": "code",
        "colab": {}
      },
      "cell_type": "code",
      "source": [
        "#Check for missing values\n",
        "sw['COUNTY_NAME'].isnull().sum()"
      ],
      "execution_count": 0,
      "outputs": []
    },
    {
      "metadata": {
        "id": "abInX9TypDI8",
        "colab_type": "code",
        "colab": {}
      },
      "cell_type": "code",
      "source": [
        "#Check number of unique values in each column... keep long and lat for possible map display\n",
        "sw.nunique() "
      ],
      "execution_count": 0,
      "outputs": []
    },
    {
      "metadata": {
        "id": "2rVx3fOUpDJA",
        "colab_type": "code",
        "colab": {}
      },
      "cell_type": "code",
      "source": [
        "#Count historical data per county\n",
        "pd.value_counts(df['COUNTY_NAME'])"
      ],
      "execution_count": 0,
      "outputs": []
    },
    {
      "metadata": {
        "id": "LLqLXyRZpDJE",
        "colab_type": "code",
        "colab": {}
      },
      "cell_type": "code",
      "source": [
        "#list total number of measurements for each water parameter\n",
        "pd.value_counts(df['PARAMETER'])"
      ],
      "execution_count": 0,
      "outputs": []
    },
    {
      "metadata": {
        "id": "u-19rN09pDJI",
        "colab_type": "code",
        "colab": {}
      },
      "cell_type": "code",
      "source": [
        "#Check size of df\n",
        "sw.shape"
      ],
      "execution_count": 0,
      "outputs": []
    },
    {
      "metadata": {
        "id": "Y0B_nT15IhdO",
        "colab_type": "code",
        "colab": {}
      },
      "cell_type": "code",
      "source": [
        "#Test dynamic date range... most recent to 30 years back\n",
        "list(range(max(sw['SAMPLE_DATE'])-30, max(sw['SAMPLE_DATE'])))"
      ],
      "execution_count": 0,
      "outputs": []
    },
    {
      "metadata": {
        "id": "9yj4O9LWpDJL",
        "colab_type": "code",
        "colab": {}
      },
      "cell_type": "code",
      "source": [
        "#Select and separate target counties based on size and geographic location in state\n",
        "Counties = ('Los Angeles', 'San Diego', 'Sacramento', 'Fresno', 'San Francisco')\n",
        "#Select and separate data based on dynamic 30 year range\n",
        "Years = list(range(max(sw['SAMPLE_DATE'])-30, max(sw['SAMPLE_DATE'])))\n",
        "#Select and separate contaminents based on significance and data availability\n",
        "Parameters = ('pH', 'Turbidity', 'Total Dissolved Solids')\n",
        "#Create and view new project data\n",
        "county_data = (sw.loc[sw['COUNTY_NAME'].isin(Counties)])\n",
        "year_data = (county_data.loc[county_data['SAMPLE_DATE'].isin(Years)])\n",
        "target_data = (year_data.loc[year_data['PARAMETER'].isin(Parameters)])\n",
        "target_data\n",
        "\n"
      ],
      "execution_count": 0,
      "outputs": []
    },
    {
      "metadata": {
        "id": "_WNnbuzkdAq2",
        "colab_type": "code",
        "colab": {}
      },
      "cell_type": "code",
      "source": [
        "LL = sw[['FULL_STATION_NAME', 'LONGITUDE', 'LATITUDE']]\n",
        "LL = LL.drop_duplicates()\n",
        "LL = LL.replace(np.nan, 'No Name', regex=True)\n",
        "LL.isnull().sum()"
      ],
      "execution_count": 0,
      "outputs": []
    },
    {
      "metadata": {
        "id": "FDGtnGiOroCa",
        "colab_type": "code",
        "colab": {}
      },
      "cell_type": "code",
      "source": [
        "LL"
      ],
      "execution_count": 0,
      "outputs": []
    },
    {
      "metadata": {
        "id": "go73Om3hpDJQ",
        "colab_type": "code",
        "colab": {}
      },
      "cell_type": "code",
      "source": [
        "#assess size of new data\n",
        "LL.shape"
      ],
      "execution_count": 0,
      "outputs": []
    },
    {
      "metadata": {
        "id": "1zri_0iCpDJV",
        "colab_type": "code",
        "colab": {}
      },
      "cell_type": "code",
      "source": [
        "#Observe amount of data for each contaminent\n",
        "pd.value_counts(target_data['PARAMETER']).sort_index()"
      ],
      "execution_count": 0,
      "outputs": []
    },
    {
      "metadata": {
        "id": "axg05zfppDJd",
        "colab_type": "code",
        "colab": {}
      },
      "cell_type": "code",
      "source": [
        "state_data = pd.crosstab(target_data['SAMPLE_DATE'], target_data['PARAMETER'], values = target_data['RESULT'], aggfunc=[np.mean])\n",
        "state_data.columns = ['Total Dissolved Solids', 'Turbidity', 'pH']\n",
        "state_data['Total Dissolved Solids'] = (state_data['Total Dissolved Solids']/max(state_data['Total Dissolved Solids']))*100\n",
        "state_data['Turbidity'] = (state_data['Turbidity']/max(state_data['Turbidity']))*100\n",
        "state_data['pH'] = 100 - (((state_data['pH']-min(state_data['pH']))/min(state_data['pH']))*100)\n",
        "\n",
        "state_data\n"
      ],
      "execution_count": 0,
      "outputs": []
    },
    {
      "metadata": {
        "id": "jXcDxpLvpDJv",
        "colab_type": "code",
        "colab": {}
      },
      "cell_type": "code",
      "source": [
        "fig = plt.figure(figsize = (20,5))\n",
        "plt.plot(state_data);"
      ],
      "execution_count": 0,
      "outputs": []
    },
    {
      "metadata": {
        "id": "ZYOlIM7i0OWS",
        "colab_type": "code",
        "colab": {}
      },
      "cell_type": "code",
      "source": [
        "Fresno_data = (target_data.loc[target_data['COUNTY_NAME'] =='Fresno'])\n",
        "Fresno_data = pd.crosstab(Fresno_data['SAMPLE_DATE'], Fresno_data['PARAMETER'], values = Fresno_data['RESULT'], aggfunc=[np.mean])\n",
        "Fresno_data.columns = ['Total Dissolved Solids', 'Turbidity', 'pH']\n",
        "Fresno_data['Total Dissolved Solids'] = (Fresno_data['Total Dissolved Solids']/max(Fresno_data['Total Dissolved Solids']))*100\n",
        "Fresno_data['Turbidity'] = (Fresno_data['Turbidity']/max(Fresno_data['Turbidity']))*100\n",
        "Fresno_data['pH'] = 100 - (((Fresno_data['pH']-min(Fresno_data['pH']))/min(Fresno_data['pH']))*100)\n",
        "\n",
        "Fresno_data\n"
      ],
      "execution_count": 0,
      "outputs": []
    },
    {
      "metadata": {
        "id": "XeBtnhdoHv0v",
        "colab_type": "code",
        "colab": {}
      },
      "cell_type": "code",
      "source": [
        "\n",
        "LA_data = (target_data.loc[target_data['COUNTY_NAME'] =='Los Angeles'])\n",
        "LA_data = pd.crosstab(LA_data['SAMPLE_DATE'], LA_data['PARAMETER'], values = LA_data['RESULT'], aggfunc=[np.mean])\n",
        "LA_data.columns = ['Total Dissolved Solids', 'Turbidity', 'pH']\n",
        "LA_data['Total Dissolved Solids'] = (LA_data['Total Dissolved Solids']/max(LA_data['Total Dissolved Solids']))*100\n",
        "LA_data['Turbidity'] = (LA_data['Turbidity']/max(LA_data['Turbidity']))*100\n",
        "LA_data['pH'] = 100 - (((LA_data['pH']-min(LA_data['pH']))/min(LA_data['pH']))*100)\n",
        "\n",
        "LA_data"
      ],
      "execution_count": 0,
      "outputs": []
    },
    {
      "metadata": {
        "id": "n6JVDr5F-uLi",
        "colab_type": "code",
        "colab": {}
      },
      "cell_type": "code",
      "source": [
        "Sac_data = (target_data.loc[target_data['COUNTY_NAME'] =='Sacramento'])\n",
        "Sac_data = pd.crosstab(Sac_data['SAMPLE_DATE'], Sac_data['PARAMETER'], values = Sac_data['RESULT'], aggfunc=[np.mean])\n",
        "Sac_data.columns = ['Total Dissolved Solids', 'Turbidity', 'pH']\n",
        "Sac_data['Total Dissolved Solids'] = (Sac_data['Total Dissolved Solids']/max(Sac_data['Total Dissolved Solids']))*100\n",
        "Sac_data['Turbidity'] = (Sac_data['Turbidity']/max(Sac_data['Turbidity']))*100\n",
        "Sac_data['pH'] = 100 - (((Sac_data['pH']-min(Sac_data['pH']))/min(Sac_data['pH']))*100)\n",
        "\n",
        "Sac_data"
      ],
      "execution_count": 0,
      "outputs": []
    },
    {
      "metadata": {
        "id": "s8l0ZOFg__m_",
        "colab_type": "code",
        "colab": {}
      },
      "cell_type": "code",
      "source": [
        "SD_data = (target_data.loc[target_data['COUNTY_NAME'] =='San Diego'])\n",
        "SD_data = pd.crosstab(SD_data['SAMPLE_DATE'], SD_data['PARAMETER'], values = SD_data['RESULT'], aggfunc=[np.mean])\n",
        "SD_data.columns = ['Total Dissolved Solids', 'Turbidity', 'pH']\n",
        "SD_data['Total Dissolved Solids'] = (SD_data['Total Dissolved Solids']/max(SD_data['Total Dissolved Solids']))*100\n",
        "SD_data['Turbidity'] = (SD_data['Turbidity']/max(SD_data['Turbidity']))*100\n",
        "SD_data['pH'] = 100 - (((SD_data['pH']-min(SD_data['pH']))/min(SD_data['pH']))*100)\n",
        "\n",
        "SD_data"
      ],
      "execution_count": 0,
      "outputs": []
    },
    {
      "metadata": {
        "id": "CnjxyjB9FETg",
        "colab_type": "code",
        "colab": {}
      },
      "cell_type": "code",
      "source": [
        "lat = LL['LATITUDE'].values\n",
        "lon = LL['LONGITUDE'].values\n",
        "fig = plt.figure(figsize=(16, 16))\n",
        "m = Basemap(projection='lcc', resolution='h', \n",
        "            lat_0=37.5, lon_0=-119,\n",
        "            width=1E6, height=1.2E6)\n",
        "m.shadedrelief()\n",
        "m.drawcoastlines(color='gray')\n",
        "m.drawcountries(color='black')\n",
        "m.drawstates(color='black')\n",
        "m.scatter(lon, lat, latlon= True, s= 12);\n",
        "\n"
      ],
      "execution_count": 0,
      "outputs": []
    },
    {
      "metadata": {
        "id": "fV-XO76qY-XJ",
        "colab_type": "code",
        "colab": {}
      },
      "cell_type": "code",
      "source": [
        "import altair as alt\n",
        "from vega_datasets import data\n",
        "\n",
        "states = alt.topo_feature(data.us_10m.url, 'states')\n",
        "capitals = data.us_state_capitals.url\n",
        "\n",
        "# US states background\n",
        "background = alt.Chart(states).mark_geoshape(\n",
        "    fill='lightgray',\n",
        "    stroke='white'\n",
        ").properties(\n",
        "    title='US State Capitols',\n",
        "    width=700,\n",
        "    height=400\n",
        ").project('albersUsa')\n",
        "\n",
        "\n",
        "base = alt.Chart(capitals).encode(\n",
        "    longitude='lon:Q',\n",
        "    latitude='lat:Q'\n",
        ")\n",
        "\n",
        "text = base.mark_text(dy=-5, align='right').encode(\n",
        "    alt.Text('city', type='nominal'),\n",
        "    opacity=alt.condition(~hover, alt.value(0), alt.value(1))\n",
        ")\n",
        "\n"
      ],
      "execution_count": 0,
      "outputs": []
    }
  ]
}